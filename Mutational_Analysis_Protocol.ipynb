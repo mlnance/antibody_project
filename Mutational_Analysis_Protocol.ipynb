{
 "cells": [
  {
   "cell_type": "code",
   "execution_count": 60,
   "metadata": {
    "collapsed": true
   },
   "outputs": [],
   "source": [
    "# import of all functions\n",
    "import os\n",
    "import sys\n",
    "\n",
    "# Rosetta files\n",
    "from mutational_analysis import *\n",
    "from antibody_protocols import *"
   ]
  },
  {
   "cell_type": "code",
   "execution_count": 63,
   "metadata": {
    "collapsed": true
   },
   "outputs": [],
   "source": [
    "# get the filename of the appropriately HAND-EDITED PDB file\n",
    "# hand-edited because well...it's just more effective\n",
    "# should also be the lowest energy, packed and minimized structure so it's a base\n",
    "\n",
    "clean_pdb_filename = \"/Users/Research/pyrosetta_git_repo/Lowest_E_Pack_Min_3ay4_Fc_FcgRIII.pdb\""
   ]
  },
  {
   "cell_type": "code",
   "execution_count": 64,
   "metadata": {
    "collapsed": false
   },
   "outputs": [
    {
     "name": "stdout",
     "output_type": "stream",
     "text": [
      "Loading pose\n",
      "\n",
      "Pose's intial score: -911.852873761\n",
      "Constraining the bond distance and bond angles for 8 sugar residues\n"
     ]
    }
   ],
   "source": [
    "# load the PDB into Rosetta with the appropriate sugar flags\n",
    "pose = load_pose( clean_pdb_filename )\n",
    "\n",
    "# instantiate a ScoreFunction\n",
    "sf = get_fa_scorefxn()\n",
    "print \"\\nPose's intial score:\", sf( pose )\n",
    "\n",
    "# apply sugar constraints to the ScoreFunction\n",
    "sf = apply_sugar_constraints_to_sf( sf, pose, verbose = True )"
   ]
  },
  {
   "cell_type": "code",
   "execution_count": null,
   "metadata": {
    "collapsed": true
   },
   "outputs": [],
   "source": []
  },
  {
   "cell_type": "code",
   "execution_count": null,
   "metadata": {
    "collapsed": true
   },
   "outputs": [],
   "source": []
  },
  {
   "cell_type": "code",
   "execution_count": null,
   "metadata": {
    "collapsed": true
   },
   "outputs": [],
   "source": []
  },
  {
   "cell_type": "code",
   "execution_count": 57,
   "metadata": {
    "collapsed": false
   },
   "outputs": [
    {
     "name": "stdout",
     "output_type": "stream",
     "text": [
      "Loading pose\n",
      "P329A\n",
      "Packing...\n",
      "Minimizing...\n",
      "Packing...\n",
      "Minimizing...\n"
     ]
    }
   ],
   "source": [
    "# make all desired mutations and dump PDBs into their structure directory\n",
    "# structure directory = ~/pyrosetta_git_repo/testing_dir_mutated_structures\n",
    "\n",
    "%run make_all_mutations.py Lowest_E_Pack_Min_3ay4_Fc_FcgRIII.pdb test_mut_list testing_dir_mutated_structures/"
   ]
  },
  {
   "cell_type": "code",
   "execution_count": null,
   "metadata": {
    "collapsed": true
   },
   "outputs": [],
   "source": []
  }
 ],
 "metadata": {
  "kernelspec": {
   "display_name": "Python 2",
   "language": "python",
   "name": "python2"
  },
  "language_info": {
   "codemirror_mode": {
    "name": "ipython",
    "version": 2
   },
   "file_extension": ".py",
   "mimetype": "text/x-python",
   "name": "python",
   "nbconvert_exporter": "python",
   "pygments_lexer": "ipython2",
   "version": "2.7.10"
  }
 },
 "nbformat": 4,
 "nbformat_minor": 0
}
